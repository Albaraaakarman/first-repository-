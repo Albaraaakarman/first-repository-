{
  "nbformat": 4,
  "nbformat_minor": 0,
  "metadata": {
    "colab": {
      "provenance": [],
      "authorship_tag": "ABX9TyM7saYz14X4UVekNJT7VC2a",
      "include_colab_link": true
    },
    "kernelspec": {
      "name": "python3",
      "display_name": "Python 3"
    },
    "language_info": {
      "name": "python"
    }
  },
  "cells": [
    {
      "cell_type": "markdown",
      "metadata": {
        "id": "view-in-github",
        "colab_type": "text"
      },
      "source": [
        "<a href=\"https://colab.research.google.com/github/Albaraaakarman/first-repository-/blob/main/DataScienceEcoSystem.ipynb\" target=\"_parent\"><img src=\"https://colab.research.google.com/assets/colab-badge.svg\" alt=\"Open In Colab\"/></a>"
      ]
    },
    {
      "cell_type": "code",
      "execution_count": null,
      "metadata": {
        "id": "-UJQZh0Lb3bE"
      },
      "outputs": [],
      "source": []
    },
    {
      "cell_type": "code",
      "source": [],
      "metadata": {
        "id": "AwodfTJscX7W"
      },
      "execution_count": null,
      "outputs": []
    },
    {
      "cell_type": "code",
      "source": [],
      "metadata": {
        "id": "-6v_VULThhyC"
      },
      "execution_count": null,
      "outputs": []
    },
    {
      "cell_type": "markdown",
      "source": [
        "Data Science Tools and Ecosystem"
      ],
      "metadata": {
        "id": "JfnzaycYhmFi"
      }
    },
    {
      "cell_type": "markdown",
      "source": [
        "In this notebook, Data Science Tools and Ecosystem are summarized."
      ],
      "metadata": {
        "id": "16GadWZ2dECW"
      }
    },
    {
      "cell_type": "code",
      "source": [],
      "metadata": {
        "id": "MTNiObaDdFKP"
      },
      "execution_count": null,
      "outputs": []
    },
    {
      "cell_type": "markdown",
      "source": [
        "There are many types of programming languages that used in Data Science, such:\n",
        "\n",
        "\n",
        "1.   C\n",
        "2.   C++\n",
        "3.   Java\n",
        "4.   Python\n",
        "5.   R\n",
        "\n",
        "\n",
        "\n",
        "\n",
        "\n"
      ],
      "metadata": {
        "id": "qz39PITudTTl"
      }
    },
    {
      "cell_type": "markdown",
      "source": [
        "Some of the commonly used libraries used by Data Scientists include:\n",
        "\n",
        "\n",
        "*   Matplotlib\n",
        "*   Seaborn\n",
        "*   Numpy\n",
        "*   ggplot\n",
        "\n",
        "\n",
        "\n"
      ],
      "metadata": {
        "id": "mWNr0PmVd6vo"
      }
    },
    {
      "cell_type": "code",
      "source": [],
      "metadata": {
        "id": "5xAWbuipemj2"
      },
      "execution_count": null,
      "outputs": []
    },
    {
      "cell_type": "markdown",
      "source": [
        "Data Science Tools"
      ],
      "metadata": {
        "id": "8igB17jNe5st"
      }
    },
    {
      "cell_type": "markdown",
      "source": [
        "\n",
        "\n",
        "---\n",
        "Rstudio\n",
        "\n",
        "---\n",
        "\n",
        "ApacheHadoop\n",
        "\n",
        "---\n",
        "ApacheSpark\n",
        "\n"
      ],
      "metadata": {
        "id": "Zc1c8Y9vfSwt"
      }
    },
    {
      "cell_type": "markdown",
      "source": [
        "Below are a few examples of evaluating arithmetic expressions in Python."
      ],
      "metadata": {
        "id": "GITB3OW4h7u1"
      }
    },
    {
      "cell_type": "code",
      "source": [
        "# This a simple arithmetic expression to mutiply then add integers\n",
        "\n",
        "x=(3*4)+5\n",
        "print(x)"
      ],
      "metadata": {
        "colab": {
          "base_uri": "https://localhost:8080/"
        },
        "id": "HJ7zrmNbjB5W",
        "outputId": "f50af3ac-a895-46cd-ce4b-57f8e623fc0f"
      },
      "execution_count": 3,
      "outputs": [
        {
          "output_type": "stream",
          "name": "stdout",
          "text": [
            "17\n"
          ]
        }
      ]
    },
    {
      "cell_type": "code",
      "source": [
        "#This will convert 200 minutes to hours by diving by 60\n",
        "\n",
        "a= 200\n",
        "b=60\n",
        "c= a/b\n",
        "print(c)"
      ],
      "metadata": {
        "colab": {
          "base_uri": "https://localhost:8080/"
        },
        "id": "PHmn63qxjg9F",
        "outputId": "94f8adb5-8e0f-48d8-cea6-9b968e45f190"
      },
      "execution_count": 7,
      "outputs": [
        {
          "output_type": "stream",
          "name": "stdout",
          "text": [
            "3.3333333333333335\n"
          ]
        }
      ]
    },
    {
      "cell_type": "markdown",
      "source": [
        "**Objectives**\n",
        "popular languages for Data Science\n",
        "\n",
        "\n",
        "*   R\n",
        "*   C++\n",
        "*  Python\n",
        "*   Scala\n",
        "*   Julia\n"
      ],
      "metadata": {
        "id": "fhi3B9oxkbOk"
      }
    },
    {
      "cell_type": "markdown",
      "source": [
        "**Author** Albaraa Mohammed"
      ],
      "metadata": {
        "id": "01CDJi_mlHDV"
      }
    },
    {
      "cell_type": "code",
      "source": [],
      "metadata": {
        "id": "_RF7oncVlwN1"
      },
      "execution_count": null,
      "outputs": []
    }
  ]
}